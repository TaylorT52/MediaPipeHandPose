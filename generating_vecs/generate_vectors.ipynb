{
 "cells": [
  {
   "cell_type": "code",
   "execution_count": 6,
   "metadata": {},
   "outputs": [],
   "source": [
    "import cv2\n",
    "import os\n",
    "import numpy as np"
   ]
  },
  {
   "cell_type": "code",
   "execution_count": 4,
   "metadata": {},
   "outputs": [],
   "source": [
    "def match_gestures(image1_path, image2_path, threshold=120, show_preprocess_steps=True):  \n",
    "    orb = cv2.ORB_create()\n",
    "    kp1, des1 = orb.detectAndCompute(image1_path, None)\n",
    "    kp2, des2 = orb.detectAndCompute(image2_path, None)\n",
    "\n",
    "    print(des2.shape)\n",
    "    \n",
    "    bf = cv2.BFMatcher(cv2.NORM_HAMMING, crossCheck=True)\n",
    "    matches = bf.match(des1, des2)\n",
    "    matches = sorted(matches, key=lambda x: x.distance)\n",
    "    \n",
    "    if len(matches) > threshold:\n",
    "        print(\"The gestures are similar.\")\n",
    "    else:\n",
    "        print(\"The gestures are not similar.\")\n",
    "\n",
    "    return des2"
   ]
  },
  {
   "cell_type": "code",
   "execution_count": 9,
   "metadata": {},
   "outputs": [],
   "source": [
    "def get_vectors(image):\n",
    "    orb = cv2.ORB_create()\n",
    "    kp1, des1 = orb.detectAndCompute(image, None)\n",
    "    return des1"
   ]
  },
  {
   "cell_type": "code",
   "execution_count": 14,
   "metadata": {},
   "outputs": [],
   "source": [
    "dict = {\n",
    "    \"bumper_left\": [],\n",
    "    \"right\": [],\n",
    "    \"start\": [],\n",
    "    \"stop\": [],\n",
    "    \"bumper_right\": [],\n",
    "    \"left\": []\n",
    "}"
   ]
  },
  {
   "cell_type": "code",
   "execution_count": 18,
   "metadata": {},
   "outputs": [
    {
     "name": "stdout",
     "output_type": "stream",
     "text": [
      "0\n",
      "1\n",
      "2\n",
      "3\n",
      "4\n",
      "5\n"
     ]
    }
   ],
   "source": [
    "folder_path = 'base_gestures_new'\n",
    "gestures = [\"bumper_left\", \"right\", \"start\", \"stop\", \"bumper_right\", \"left\"]\n",
    "counter = 0\n",
    "\n",
    "# Iterate through all files in the folder\n",
    "for filename in os.listdir(folder_path):\n",
    "    if filename.endswith(('.jpg', '.jpeg', '.png', '.bmp')):\n",
    "\n",
    "        image_path = os.path.join(folder_path, filename)\n",
    "        image = cv2.imread(image_path)\n",
    "        \n",
    "        if image is not None:\n",
    "            cv2.imshow('Image', image)\n",
    "            vecs = get_vectors(image)\n",
    "            gesture = gestures[counter]\n",
    "            dict[gesture] = vecs.tolist()\n",
    "\n",
    "            cv2.waitKey(0) \n",
    "            cv2.destroyAllWindows()\n",
    "        else:\n",
    "            print(f\"Failed to read image: {image_path}\")\n",
    "    print(counter)\n",
    "    counter += 1"
   ]
  },
  {
   "cell_type": "code",
   "execution_count": 19,
   "metadata": {},
   "outputs": [],
   "source": [
    "import json\n",
    "\n",
    "file_path = \"base_gestures_new.json\"\n",
    "with open(file_path, 'w') as json_file:\n",
    "    json.dump(dict, json_file)"
   ]
  }
 ],
 "metadata": {
  "kernelspec": {
   "display_name": "Python 3",
   "language": "python",
   "name": "python3"
  },
  "language_info": {
   "codemirror_mode": {
    "name": "ipython",
    "version": 3
   },
   "file_extension": ".py",
   "mimetype": "text/x-python",
   "name": "python",
   "nbconvert_exporter": "python",
   "pygments_lexer": "ipython3",
   "version": "3.9.7"
  },
  "orig_nbformat": 4
 },
 "nbformat": 4,
 "nbformat_minor": 2
}
